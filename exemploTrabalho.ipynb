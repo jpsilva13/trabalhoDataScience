{
 "cells": [
  {
   "cell_type": "code",
   "execution_count": 62,
   "id": "e453f9a0",
   "metadata": {},
   "outputs": [],
   "source": [
    "import tensorflow as tf"
   ]
  },
  {
   "cell_type": "code",
   "execution_count": 66,
   "id": "d0440675",
   "metadata": {},
   "outputs": [],
   "source": [
    "\n",
    "with tf.compat.v1.Session() as sessao:#Aqui é criada uma sessão para efetuar as operações.\n",
    "    a= tf.constant(2)#Cria tensores de constantes, para que as operações abaixo possam ser realizadas.\n",
    "    b= tf.constant(2)\n",
    "    c= tf.constant(1)\n",
    "\n",
    "    d= tf.multiply(a,b)#Realiza operações utilizando os tensores criados e armazena os resultados em novos tensores.\n",
    "    e= tf.add(b,c)\n",
    "    \n",
    "    f= tf.subtract(d,e)\n",
    "    saida=sessao.run(f)#A sessão é executada em f, e a biblioteca irá realizar as operações buscando os valores anteriores.\n",
    "    sessao.close()\n",
    "\n"
   ]
  },
  {
   "cell_type": "code",
   "execution_count": 67,
   "id": "1fc5f853",
   "metadata": {},
   "outputs": [
    {
     "name": "stdout",
     "output_type": "stream",
     "text": [
      "1\n"
     ]
    }
   ],
   "source": [
    "print(saida)"
   ]
  },
  {
   "cell_type": "code",
   "execution_count": null,
   "id": "ca8e70da",
   "metadata": {},
   "outputs": [],
   "source": []
  },
  {
   "cell_type": "code",
   "execution_count": null,
   "id": "3271107b",
   "metadata": {},
   "outputs": [],
   "source": []
  },
  {
   "cell_type": "code",
   "execution_count": null,
   "id": "ecb18139",
   "metadata": {},
   "outputs": [],
   "source": []
  },
  {
   "cell_type": "code",
   "execution_count": null,
   "id": "cd57c658",
   "metadata": {},
   "outputs": [],
   "source": []
  },
  {
   "cell_type": "code",
   "execution_count": null,
   "id": "e14c0288",
   "metadata": {},
   "outputs": [],
   "source": []
  }
 ],
 "metadata": {
  "kernelspec": {
   "display_name": "Python 3",
   "language": "python",
   "name": "python3"
  },
  "language_info": {
   "codemirror_mode": {
    "name": "ipython",
    "version": 3
   },
   "file_extension": ".py",
   "mimetype": "text/x-python",
   "name": "python",
   "nbconvert_exporter": "python",
   "pygments_lexer": "ipython3",
   "version": "3.8.8"
  }
 },
 "nbformat": 4,
 "nbformat_minor": 5
}
